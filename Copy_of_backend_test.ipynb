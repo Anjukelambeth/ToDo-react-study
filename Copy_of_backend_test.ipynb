{
  "nbformat": 4,
  "nbformat_minor": 0,
  "metadata": {
    "colab": {
      "provenance": [],
      "authorship_tag": "ABX9TyP5vEXZ/pBR8n7nPlJxCQYa",
      "include_colab_link": true
    },
    "kernelspec": {
      "name": "python3",
      "display_name": "Python 3"
    },
    "language_info": {
      "name": "python"
    }
  },
  "cells": [
    {
      "cell_type": "markdown",
      "metadata": {
        "id": "view-in-github",
        "colab_type": "text"
      },
      "source": [
        "<a href=\"https://colab.research.google.com/github/Anjukelambeth/ToDo-react-study/blob/main/Copy_of_backend_test.ipynb\" target=\"_parent\"><img src=\"https://colab.research.google.com/assets/colab-badge.svg\" alt=\"Open In Colab\"/></a>"
      ]
    },
    {
      "cell_type": "code",
      "execution_count": null,
      "metadata": {
        "colab": {
          "base_uri": "https://localhost:8080/",
          "height": 73
        },
        "id": "HF77vbzc8hwp",
        "outputId": "f7cb9cb2-15d1-4a86-9972-4777f6d0fac1"
      },
      "outputs": [
        {
          "output_type": "display_data",
          "data": {
            "text/plain": [
              "<IPython.core.display.HTML object>"
            ],
            "text/html": [
              "\n",
              "     <input type=\"file\" id=\"files-656d2842-621f-4ac7-ac95-3a1263961c10\" name=\"files[]\" multiple disabled\n",
              "        style=\"border:none\" />\n",
              "     <output id=\"result-656d2842-621f-4ac7-ac95-3a1263961c10\">\n",
              "      Upload widget is only available when the cell has been executed in the\n",
              "      current browser session. Please rerun this cell to enable.\n",
              "      </output>\n",
              "      <script>// Copyright 2017 Google LLC\n",
              "//\n",
              "// Licensed under the Apache License, Version 2.0 (the \"License\");\n",
              "// you may not use this file except in compliance with the License.\n",
              "// You may obtain a copy of the License at\n",
              "//\n",
              "//      http://www.apache.org/licenses/LICENSE-2.0\n",
              "//\n",
              "// Unless required by applicable law or agreed to in writing, software\n",
              "// distributed under the License is distributed on an \"AS IS\" BASIS,\n",
              "// WITHOUT WARRANTIES OR CONDITIONS OF ANY KIND, either express or implied.\n",
              "// See the License for the specific language governing permissions and\n",
              "// limitations under the License.\n",
              "\n",
              "/**\n",
              " * @fileoverview Helpers for google.colab Python module.\n",
              " */\n",
              "(function(scope) {\n",
              "function span(text, styleAttributes = {}) {\n",
              "  const element = document.createElement('span');\n",
              "  element.textContent = text;\n",
              "  for (const key of Object.keys(styleAttributes)) {\n",
              "    element.style[key] = styleAttributes[key];\n",
              "  }\n",
              "  return element;\n",
              "}\n",
              "\n",
              "// Max number of bytes which will be uploaded at a time.\n",
              "const MAX_PAYLOAD_SIZE = 100 * 1024;\n",
              "\n",
              "function _uploadFiles(inputId, outputId) {\n",
              "  const steps = uploadFilesStep(inputId, outputId);\n",
              "  const outputElement = document.getElementById(outputId);\n",
              "  // Cache steps on the outputElement to make it available for the next call\n",
              "  // to uploadFilesContinue from Python.\n",
              "  outputElement.steps = steps;\n",
              "\n",
              "  return _uploadFilesContinue(outputId);\n",
              "}\n",
              "\n",
              "// This is roughly an async generator (not supported in the browser yet),\n",
              "// where there are multiple asynchronous steps and the Python side is going\n",
              "// to poll for completion of each step.\n",
              "// This uses a Promise to block the python side on completion of each step,\n",
              "// then passes the result of the previous step as the input to the next step.\n",
              "function _uploadFilesContinue(outputId) {\n",
              "  const outputElement = document.getElementById(outputId);\n",
              "  const steps = outputElement.steps;\n",
              "\n",
              "  const next = steps.next(outputElement.lastPromiseValue);\n",
              "  return Promise.resolve(next.value.promise).then((value) => {\n",
              "    // Cache the last promise value to make it available to the next\n",
              "    // step of the generator.\n",
              "    outputElement.lastPromiseValue = value;\n",
              "    return next.value.response;\n",
              "  });\n",
              "}\n",
              "\n",
              "/**\n",
              " * Generator function which is called between each async step of the upload\n",
              " * process.\n",
              " * @param {string} inputId Element ID of the input file picker element.\n",
              " * @param {string} outputId Element ID of the output display.\n",
              " * @return {!Iterable<!Object>} Iterable of next steps.\n",
              " */\n",
              "function* uploadFilesStep(inputId, outputId) {\n",
              "  const inputElement = document.getElementById(inputId);\n",
              "  inputElement.disabled = false;\n",
              "\n",
              "  const outputElement = document.getElementById(outputId);\n",
              "  outputElement.innerHTML = '';\n",
              "\n",
              "  const pickedPromise = new Promise((resolve) => {\n",
              "    inputElement.addEventListener('change', (e) => {\n",
              "      resolve(e.target.files);\n",
              "    });\n",
              "  });\n",
              "\n",
              "  const cancel = document.createElement('button');\n",
              "  inputElement.parentElement.appendChild(cancel);\n",
              "  cancel.textContent = 'Cancel upload';\n",
              "  const cancelPromise = new Promise((resolve) => {\n",
              "    cancel.onclick = () => {\n",
              "      resolve(null);\n",
              "    };\n",
              "  });\n",
              "\n",
              "  // Wait for the user to pick the files.\n",
              "  const files = yield {\n",
              "    promise: Promise.race([pickedPromise, cancelPromise]),\n",
              "    response: {\n",
              "      action: 'starting',\n",
              "    }\n",
              "  };\n",
              "\n",
              "  cancel.remove();\n",
              "\n",
              "  // Disable the input element since further picks are not allowed.\n",
              "  inputElement.disabled = true;\n",
              "\n",
              "  if (!files) {\n",
              "    return {\n",
              "      response: {\n",
              "        action: 'complete',\n",
              "      }\n",
              "    };\n",
              "  }\n",
              "\n",
              "  for (const file of files) {\n",
              "    const li = document.createElement('li');\n",
              "    li.append(span(file.name, {fontWeight: 'bold'}));\n",
              "    li.append(span(\n",
              "        `(${file.type || 'n/a'}) - ${file.size} bytes, ` +\n",
              "        `last modified: ${\n",
              "            file.lastModifiedDate ? file.lastModifiedDate.toLocaleDateString() :\n",
              "                                    'n/a'} - `));\n",
              "    const percent = span('0% done');\n",
              "    li.appendChild(percent);\n",
              "\n",
              "    outputElement.appendChild(li);\n",
              "\n",
              "    const fileDataPromise = new Promise((resolve) => {\n",
              "      const reader = new FileReader();\n",
              "      reader.onload = (e) => {\n",
              "        resolve(e.target.result);\n",
              "      };\n",
              "      reader.readAsArrayBuffer(file);\n",
              "    });\n",
              "    // Wait for the data to be ready.\n",
              "    let fileData = yield {\n",
              "      promise: fileDataPromise,\n",
              "      response: {\n",
              "        action: 'continue',\n",
              "      }\n",
              "    };\n",
              "\n",
              "    // Use a chunked sending to avoid message size limits. See b/62115660.\n",
              "    let position = 0;\n",
              "    do {\n",
              "      const length = Math.min(fileData.byteLength - position, MAX_PAYLOAD_SIZE);\n",
              "      const chunk = new Uint8Array(fileData, position, length);\n",
              "      position += length;\n",
              "\n",
              "      const base64 = btoa(String.fromCharCode.apply(null, chunk));\n",
              "      yield {\n",
              "        response: {\n",
              "          action: 'append',\n",
              "          file: file.name,\n",
              "          data: base64,\n",
              "        },\n",
              "      };\n",
              "\n",
              "      let percentDone = fileData.byteLength === 0 ?\n",
              "          100 :\n",
              "          Math.round((position / fileData.byteLength) * 100);\n",
              "      percent.textContent = `${percentDone}% done`;\n",
              "\n",
              "    } while (position < fileData.byteLength);\n",
              "  }\n",
              "\n",
              "  // All done.\n",
              "  yield {\n",
              "    response: {\n",
              "      action: 'complete',\n",
              "    }\n",
              "  };\n",
              "}\n",
              "\n",
              "scope.google = scope.google || {};\n",
              "scope.google.colab = scope.google.colab || {};\n",
              "scope.google.colab._files = {\n",
              "  _uploadFiles,\n",
              "  _uploadFilesContinue,\n",
              "};\n",
              "})(self);\n",
              "</script> "
            ]
          },
          "metadata": {}
        },
        {
          "output_type": "stream",
          "name": "stdout",
          "text": [
            "Saving dataset.csv to dataset.csv\n"
          ]
        }
      ],
      "source": [
        "from google.colab import files\n",
        " \n",
        " \n",
        "uploaded = files.upload()"
      ]
    },
    {
      "cell_type": "code",
      "source": [
        "import pandas as pd\n",
        "import io\n",
        " \n",
        "datafile = pd.read_csv(io.BytesIO(uploaded['dataset.csv']))\n",
        "print(datafile)"
      ],
      "metadata": {
        "colab": {
          "base_uri": "https://localhost:8080/"
        },
        "id": "EaZ6DuPm-D1v",
        "outputId": "51cc1c52-916f-49cd-c98a-88f22f5393fd"
      },
      "execution_count": null,
      "outputs": [
        {
          "output_type": "stream",
          "name": "stdout",
          "text": [
            "      BUILDINGKEY  FLOORKEY       FLOORNAME NURSEKEY        NURSENAME  \\\n",
            "0             5.0       9.0  First Floor NT  00:00.0  Daycare Surgery   \n",
            "1             5.0       9.0  First Floor NT  00:00.0  Daycare Surgery   \n",
            "2             5.0       9.0  First Floor NT  00:00.0  Daycare Surgery   \n",
            "3             5.0       9.0  First Floor NT  00:00.0  Daycare Surgery   \n",
            "4             5.0       9.0  First Floor NT  00:00.0  Daycare Surgery   \n",
            "...           ...       ...             ...      ...              ...   \n",
            "1095          NaN       NaN             NaN      NaN              NaN   \n",
            "1096          NaN       NaN             NaN      NaN              NaN   \n",
            "1097          NaN       NaN             NaN      NaN              NaN   \n",
            "1098          NaN       NaN             NaN      NaN              NaN   \n",
            "1099          NaN       NaN             NaN      NaN              NaN   \n",
            "\n",
            "      ROOMKEY               ROOMNAME  BEDKEY BEDNAME           BEDSTATUS  \n",
            "0        33.0  Daycare NT (Day Care)    34.0   101-1  Occupied Discharge  \n",
            "1        33.0  Daycare NT (Day Care)    35.0  101-1P  Occupied Discharge  \n",
            "2        33.0  Daycare NT (Day Care)    36.0   101-2        Vacant Dirty  \n",
            "3        33.0  Daycare NT (Day Care)    37.0  101-2P        Vacant Dirty  \n",
            "4        33.0  Daycare NT (Day Care)    38.0   101-3        Vacant Dirty  \n",
            "...       ...                    ...     ...     ...                 ...  \n",
            "1095      NaN                    NaN     NaN     NaN                 NaN  \n",
            "1096      NaN                    NaN     NaN     NaN                 NaN  \n",
            "1097      NaN                    NaN     NaN     NaN                 NaN  \n",
            "1098      NaN                    NaN     NaN     NaN                 NaN  \n",
            "1099      NaN                    NaN     NaN     NaN                 NaN  \n",
            "\n",
            "[1100 rows x 10 columns]\n"
          ]
        }
      ]
    },
    {
      "cell_type": "code",
      "source": [
        "# 1.Get the Count of beds in each ward. \n",
        "\n",
        "# Using groupby() and count()\n",
        "df2 = datafile.groupby(['NURSEKEY'])['NURSEKEY'].size().reset_index(name='No.of Beds')\n",
        "print(df2)\n"
      ],
      "metadata": {
        "colab": {
          "base_uri": "https://localhost:8080/"
        },
        "id": "iHVF2W6NGD4-",
        "outputId": "615a47ea-952e-46a7-80d7-119c358dcb3f"
      },
      "execution_count": null,
      "outputs": [
        {
          "output_type": "stream",
          "name": "stdout",
          "text": [
            "   NURSEKEY  No.of Beds\n",
            "0   00:00.0          79\n",
            "1      1017          31\n",
            "2      1018          45\n",
            "3      1020          32\n",
            "4      1058          36\n",
            "5      1352          16\n",
            "6      1567          35\n",
            "7      1568          11\n",
            "8       171         118\n",
            "9       245          78\n",
            "10      307          42\n",
            "11      308          76\n",
            "12       32          25\n",
            "13      365          50\n",
            "14      411          41\n",
            "15      487          10\n",
            "16      506          11\n",
            "17      519          30\n",
            "18       59           8\n",
            "19      673           6\n",
            "20      680          45\n",
            "21      681          33\n",
            "22       69           8\n",
            "23       74          64\n",
            "24      774           9\n",
            "25      788          35\n",
            "26      789          26\n"
          ]
        }
      ]
    },
    {
      "cell_type": "code",
      "source": [
        "# 2.Get the count of bed in each room.\n",
        "\n",
        "# Using groupby() and count()\n",
        "df3 = datafile.groupby(['ROOMKEY'])['ROOMKEY'].size().reset_index(name='No.of Beds')\n",
        "print(df3)"
      ],
      "metadata": {
        "colab": {
          "base_uri": "https://localhost:8080/"
        },
        "id": "k3Ft-SApG0Ne",
        "outputId": "b7b9b560-4604-432c-cf86-3dcb7bd9c275"
      },
      "execution_count": null,
      "outputs": [
        {
          "output_type": "stream",
          "name": "stdout",
          "text": [
            "     ROOMKEY  No.of Beds\n",
            "0       33.0          50\n",
            "1       60.0          16\n",
            "2       84.0           2\n",
            "3       86.0           4\n",
            "4       87.0           4\n",
            "..       ...         ...\n",
            "273   1649.0           1\n",
            "274   1650.0           1\n",
            "275   1651.0           1\n",
            "276   1652.0           1\n",
            "277   1653.0           1\n",
            "\n",
            "[278 rows x 2 columns]\n"
          ]
        }
      ]
    },
    {
      "cell_type": "code",
      "source": [
        "# 3.Get the count of the bed under each status. before droping duplicate values\n",
        "\n",
        "# Using groupby() and count()\n",
        "df4 = datafile.groupby(['BEDSTATUS'])['BEDSTATUS'].size().reset_index(name='No.of Beds')\n",
        "print(df4)"
      ],
      "metadata": {
        "colab": {
          "base_uri": "https://localhost:8080/"
        },
        "id": "7K8eQjdWHQVu",
        "outputId": "e878b48a-c14c-4260-bf86-2424991c2f9c"
      },
      "execution_count": null,
      "outputs": [
        {
          "output_type": "stream",
          "name": "stdout",
          "text": [
            "            BEDSTATUS  No.of Beds\n",
            "0           Available         535\n",
            "1             Blocked           2\n",
            "2  Occupied Discharge          59\n",
            "3    Occupied(Female)         104\n",
            "4      Occupied(Male)          90\n",
            "5        Vacant Dirty         210\n"
          ]
        }
      ]
    },
    {
      "cell_type": "code",
      "source": [
        "#4.Calculate the overall occupancy percentage (total occupied / total bed).\n",
        "\n",
        "\n",
        "total_occupied = df4.iloc[2:5].sum()\n",
        "total_bed=df4.sum()\n",
        "Result = (total_occupied['No.of Beds']/total_bed['No.of Beds'])*100\n",
        "\n",
        "# total=(total_occupied)/(total_occupied)\n",
        "print('overall occupancy percentage is:',Result)"
      ],
      "metadata": {
        "colab": {
          "base_uri": "https://localhost:8080/"
        },
        "id": "kebOSJTDLetW",
        "outputId": "35a50486-806e-40bc-c380-24c4d979a097"
      },
      "execution_count": null,
      "outputs": [
        {
          "output_type": "stream",
          "name": "stdout",
          "text": [
            "overall occupancy percentage is: 25.3\n"
          ]
        }
      ]
    },
    {
      "cell_type": "code",
      "source": [
        "# 5.Calculate occupancy for each ward\n",
        "df5 = datafile.groupby(['NURSEKEY','BEDSTATUS']).size().reset_index(name='No.of occupancy')\n",
        "df6 = df5['BEDSTATUS'].groupby(df5['NURSEKEY'])\n",
        "df7=pd.concat([df5.query('BEDSTATUS == \"Occupied Discharge\" | BEDSTATUS == \"Occupied(Female)\" | BEDSTATUS == \"Occupied(Male)\"'),\n",
        "           df5.query('BEDSTATUS != \"Occupied Discharge\" | BEDSTATUS != \"Occupied(Female)\" | BEDSTATUS != \"Occupied(Male)\" ')\n",
        "             .groupby(['BEDSTATUS'],as_index=False)\n",
        "             .agg('sum')])\n",
        "df9=df5[df5['BEDSTATUS'].str.contains(\"Occupied\") ]\n",
        "res_df = df9.groupby('NURSEKEY').sum() \n",
        "print(res_df)"
      ],
      "metadata": {
        "colab": {
          "base_uri": "https://localhost:8080/"
        },
        "id": "4nQf6-8Xf7hU",
        "outputId": "108c09f3-6af0-4450-ac4e-b96596524f38"
      },
      "execution_count": null,
      "outputs": [
        {
          "output_type": "stream",
          "name": "stdout",
          "text": [
            "          No.of occupancy\n",
            "NURSEKEY                 \n",
            "00:00.0                23\n",
            "1017                   27\n",
            "1018                    5\n",
            "1020                    6\n",
            "1567                    2\n",
            "171                     2\n",
            "245                    42\n",
            "308                    12\n",
            "32                      2\n",
            "411                    28\n",
            "506                     7\n",
            "519                    17\n",
            "59                      5\n",
            "673                     4\n",
            "680                    12\n",
            "681                     3\n",
            "69                      4\n",
            "74                     16\n",
            "774                     5\n",
            "788                    20\n",
            "789                    11\n"
          ]
        }
      ]
    },
    {
      "cell_type": "code",
      "source": [
        "# 6. Calculate occupancy for each room.\n",
        "r_df=datafile.groupby(['ROOMKEY','BEDSTATUS']).size().reset_index(name='No.of occupancy')\n",
        "r_df1=r_df[r_df['BEDSTATUS'].str.contains(\"Occupied\") ]\n",
        "res_df1 = r_df1.groupby('ROOMKEY').sum() \n",
        "print(res_df1)"
      ],
      "metadata": {
        "colab": {
          "base_uri": "https://localhost:8080/"
        },
        "id": "nq9Bg9dgtW81",
        "outputId": "b6d13f1d-1a88-41e9-8246-0697b5aa5e37"
      },
      "execution_count": null,
      "outputs": [
        {
          "output_type": "stream",
          "name": "stdout",
          "text": [
            "         No.of occupancy\n",
            "ROOMKEY                 \n",
            "33.0                   4\n",
            "60.0                  10\n",
            "89.0                   2\n",
            "90.0                   2\n",
            "91.0                   2\n",
            "...                  ...\n",
            "1645.0                 1\n",
            "1646.0                 1\n",
            "1648.0                 1\n",
            "1650.0                 1\n",
            "1652.0                 1\n",
            "\n",
            "[145 rows x 1 columns]\n"
          ]
        }
      ]
    },
    {
      "cell_type": "code",
      "source": [
        "# 7.Calculate count of bed with all the different bed statuses for each ward.\n",
        "r_df2=datafile.groupby(['NURSEKEY','BEDSTATUS']).size().reset_index(name='No.of Bed')\n",
        "print(r_df2)"
      ],
      "metadata": {
        "colab": {
          "base_uri": "https://localhost:8080/"
        },
        "id": "AejyBZl4uh0X",
        "outputId": "214df7e8-36fd-48d4-bf9c-756e1dc2ce23"
      },
      "execution_count": null,
      "outputs": [
        {
          "output_type": "stream",
          "name": "stdout",
          "text": [
            "   NURSEKEY           BEDSTATUS  No.of Bed\n",
            "0   00:00.0           Available         35\n",
            "1   00:00.0  Occupied Discharge          3\n",
            "2   00:00.0    Occupied(Female)         10\n",
            "3   00:00.0      Occupied(Male)         10\n",
            "4   00:00.0        Vacant Dirty         21\n",
            "..      ...                 ...        ...\n",
            "88      788        Vacant Dirty          7\n",
            "89      789           Available          8\n",
            "90      789    Occupied(Female)          4\n",
            "91      789      Occupied(Male)          7\n",
            "92      789        Vacant Dirty          7\n",
            "\n",
            "[93 rows x 3 columns]\n"
          ]
        }
      ]
    },
    {
      "cell_type": "code",
      "source": [
        "# 8.Calculate count of bed with all the different bed statuses for each room.\n",
        "r_df3=datafile.groupby(['ROOMKEY','BEDSTATUS']).size().reset_index(name='No.of Beds')\n",
        "print(r_df3)"
      ],
      "metadata": {
        "colab": {
          "base_uri": "https://localhost:8080/"
        },
        "id": "P0n0Bs-5vhxO",
        "outputId": "c79da4b7-5606-438d-cd80-f53276f95dc3"
      },
      "execution_count": null,
      "outputs": [
        {
          "output_type": "stream",
          "name": "stdout",
          "text": [
            "     ROOMKEY           BEDSTATUS  No.of Beds\n",
            "0       33.0           Available          12\n",
            "1       33.0  Occupied Discharge           4\n",
            "2       33.0        Vacant Dirty          34\n",
            "3       60.0           Available           6\n",
            "4       60.0    Occupied(Female)           8\n",
            "..       ...                 ...         ...\n",
            "368   1649.0           Available           1\n",
            "369   1650.0    Occupied(Female)           1\n",
            "370   1651.0           Available           1\n",
            "371   1652.0    Occupied(Female)           1\n",
            "372   1653.0        Vacant Dirty           1\n",
            "\n",
            "[373 rows x 3 columns]\n"
          ]
        }
      ]
    }
  ]
}